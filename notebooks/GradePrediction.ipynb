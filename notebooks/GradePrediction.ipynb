{
  "nbformat": 4,
  "nbformat_minor": 0,
  "metadata": {
    "colab": {
      "name": "GradePrediction.ipynb",
      "provenance": [],
      "collapsed_sections": [],
      "authorship_tag": "ABX9TyODI7XhFErBW9ExTt6e3ijA",
      "include_colab_link": true
    },
    "kernelspec": {
      "name": "python3",
      "display_name": "Python 3"
    },
    "language_info": {
      "name": "python"
    }
  },
  "cells": [
    {
      "cell_type": "markdown",
      "metadata": {
        "id": "view-in-github",
        "colab_type": "text"
      },
      "source": [
        "<a href=\"https://colab.research.google.com/github/MinahilRaza/DataScience_Playground/blob/main/notebooks/GradePrediction.ipynb\" target=\"_parent\"><img src=\"https://colab.research.google.com/assets/colab-badge.svg\" alt=\"Open In Colab\"/></a>"
      ]
    },
    {
      "cell_type": "markdown",
      "metadata": {
        "id": "LCvJsNhBmf37"
      },
      "source": [
        "# Students Performance\n",
        "\n",
        "I will use Machine Learning to predict the final grade of students by using the statistics collected within the entire duration of the course."
      ]
    },
    {
      "cell_type": "markdown",
      "metadata": {
        "id": "_HnmaLqhm5V8"
      },
      "source": [
        "First, let's start by importing the required libraries"
      ]
    },
    {
      "cell_type": "code",
      "metadata": {
        "id": "T5ThGASsHb9W"
      },
      "source": [
        "import warnings\n",
        "warnings.filterwarnings(\"ignore\")"
      ],
      "execution_count": null,
      "outputs": []
    },
    {
      "cell_type": "code",
      "metadata": {
        "id": "bHEH65XGnPC-"
      },
      "source": [
        "# For visualization\n",
        "import matplotlib.pyplot as plt\n",
        "import seaborn as sns\n",
        "\n",
        "import numpy as np\n",
        "import pandas as pd\n",
        "import math\n",
        "\n",
        "# skicit-learn is a machine learning package with useful classifiers\n",
        "from sklearn import model_selection\n",
        "from sklearn.model_selection import train_test_split\n",
        "from sklearn.ensemble import RandomForestClassifier\n",
        "from sklearn.naive_bayes import GaussianNB\n",
        "from sklearn.metrics import roc_auc_score, accuracy_score, f1_score, confusion_matrix"
      ],
      "execution_count": null,
      "outputs": []
    },
    {
      "cell_type": "markdown",
      "metadata": {
        "id": "nAWzQAJ2nKQ_"
      },
      "source": [
        "## Dataset\n",
        "Please upload the given dataset for use within the notebook. Click on \"Choose Files\" and wait for the dataset to be uploaded. It just takes a second"
      ]
    },
    {
      "cell_type": "code",
      "metadata": {
        "colab": {
          "resources": {
            "http://localhost:8080/nbextensions/google.colab/files.js": {
              "data": "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",
              "ok": true,
              "headers": [
                [
                  "content-type",
                  "application/javascript"
                ]
              ],
              "status": 200,
              "status_text": ""
            }
          },
          "base_uri": "https://localhost:8080/",
          "height": 72
        },
        "id": "X4MwRr7ypwu_",
        "outputId": "3e32460f-19a7-4799-c2ed-ac06fb45e3b9"
      },
      "source": [
        "from google.colab import files\n",
        "uploaded = files.upload()"
      ],
      "execution_count": null,
      "outputs": [
        {
          "output_type": "display_data",
          "data": {
            "text/html": [
              "\n",
              "     <input type=\"file\" id=\"files-d9eed2cb-fed4-4e28-b0c7-ff04fbeeb433\" name=\"files[]\" multiple disabled\n",
              "        style=\"border:none\" />\n",
              "     <output id=\"result-d9eed2cb-fed4-4e28-b0c7-ff04fbeeb433\">\n",
              "      Upload widget is only available when the cell has been executed in the\n",
              "      current browser session. Please rerun this cell to enable.\n",
              "      </output>\n",
              "      <script src=\"/nbextensions/google.colab/files.js\"></script> "
            ],
            "text/plain": [
              "<IPython.core.display.HTML object>"
            ]
          },
          "metadata": {}
        },
        {
          "output_type": "stream",
          "name": "stdout",
          "text": [
            "Saving MP2_Data.csv to MP2_Data (1).csv\n"
          ]
        }
      ]
    },
    {
      "cell_type": "code",
      "metadata": {
        "id": "J3Q6OMtPqO7H",
        "colab": {
          "base_uri": "https://localhost:8080/"
        },
        "outputId": "a4db504c-8cde-4e91-df09-50b30fe0b2e3"
      },
      "source": [
        "file_name = list(uploaded.keys())[0]\n",
        "try:\n",
        "    df = pd.read_csv(file_name)\n",
        "    print(\"Data loaded successfully.\")\n",
        "    df = df.drop('Week8_Total', axis = 1) # drop unwanted column\n",
        "    df = df.drop('ID', axis = 1) # drop unwanted column\n",
        "except:\n",
        "    print('Please re-upload the correct file.')"
      ],
      "execution_count": null,
      "outputs": [
        {
          "output_type": "stream",
          "name": "stdout",
          "text": [
            "Data loaded successfully.\n"
          ]
        }
      ]
    },
    {
      "cell_type": "markdown",
      "metadata": {
        "id": "1I07-b5EwQhb"
      },
      "source": [
        "## Step 1 : Data Processing\n",
        "In this step, the data is preprocessed. Missing and duplicate values are removed. Moreover, the features are analyzed to check if all of them are required.\n",
        "\n",
        "First, let's start off by viewing how many examples we have in our dataset"
      ]
    },
    {
      "cell_type": "code",
      "metadata": {
        "id": "szqsYet9soCf",
        "colab": {
          "base_uri": "https://localhost:8080/"
        },
        "outputId": "efe3fff7-c48a-403e-a995-33df0e2f6897"
      },
      "source": [
        "print('The dataset contains ',df.shape[0], ' examples')"
      ],
      "execution_count": null,
      "outputs": [
        {
          "output_type": "stream",
          "name": "stdout",
          "text": [
            "The dataset contains  107  examples\n"
          ]
        }
      ]
    },
    {
      "cell_type": "markdown",
      "metadata": {
        "id": "QVE2gydondnF"
      },
      "source": [
        "### Missing Values\n",
        "The data is checked for NULL values. There are no missing values in the dataset so that makes our job easier."
      ]
    },
    {
      "cell_type": "code",
      "metadata": {
        "id": "Ckq4jqXtxJNt",
        "colab": {
          "base_uri": "https://localhost:8080/"
        },
        "outputId": "7a9a6d25-3752-4f48-d44e-eacb29012c33"
      },
      "source": [
        "df.isnull().sum()"
      ],
      "execution_count": null,
      "outputs": [
        {
          "output_type": "execute_result",
          "data": {
            "text/plain": [
              "Week2_Quiz1    0\n",
              "Week3_MP1      0\n",
              "Week3_PR1      0\n",
              "Week5_MP2      0\n",
              "Week5_PR2      0\n",
              "Week7_MP3      0\n",
              "Week7_PR3      0\n",
              "Week4_Quiz2    0\n",
              "Week6_Quiz3    0\n",
              "Week1_Stat0    0\n",
              "Week1_Stat1    0\n",
              "Week1_Stat2    0\n",
              "Week1_Stat3    0\n",
              "Week2_Stat0    0\n",
              "Week2_Stat1    0\n",
              "Week2_Stat2    0\n",
              "Week2_Stat3    0\n",
              "Week3_Stat0    0\n",
              "Week3_Stat1    0\n",
              "Week3_Stat2    0\n",
              "Week3_Stat3    0\n",
              "Week4_Stat0    0\n",
              "Week4_Stat1    0\n",
              "Week4_Stat2    0\n",
              "Week4_Stat3    0\n",
              "Week5_Stat0    0\n",
              "Week5_Stat1    0\n",
              "Week5_Stat2    0\n",
              "Week5_Stat3    0\n",
              "Week6_Stat0    0\n",
              "Week6_Stat1    0\n",
              "Week6_Stat2    0\n",
              "Week6_Stat3    0\n",
              "Week7_Stat0    0\n",
              "Week7_Stat1    0\n",
              "Week7_Stat2    0\n",
              "Week7_Stat3    0\n",
              "Week8_Stat0    0\n",
              "Week8_Stat1    0\n",
              "Week8_Stat2    0\n",
              "Week8_Stat3    0\n",
              "Week9_Stat0    0\n",
              "Week9_Stat1    0\n",
              "Week9_Stat2    0\n",
              "Week9_Stat3    0\n",
              "Grade          0\n",
              "dtype: int64"
            ]
          },
          "metadata": {},
          "execution_count": 6
        }
      ]
    },
    {
      "cell_type": "markdown",
      "metadata": {
        "id": "Ss6efhbExX-X"
      },
      "source": [
        "### Duplicates\n",
        "The data is checked for duplicate rows. There is 1 duplicate in the dataset. Therefore, we will remove this"
      ]
    },
    {
      "cell_type": "code",
      "metadata": {
        "id": "xLCs8Ok9xPAR",
        "colab": {
          "base_uri": "https://localhost:8080/"
        },
        "outputId": "b18464e4-3523-4d19-ef26-a56db294e397"
      },
      "source": [
        "duplicates = df.duplicated(subset = df.columns, keep = 'first').sum()\n",
        "if duplicates == 0:\n",
        "  print(\"There are no duplicates in the data\")\n",
        "else:\n",
        "  print(\"There are \", duplicates, \" duplicates in the data\")\n",
        "  df.drop_duplicates(subset=None, keep='first', inplace=True)\n",
        "  print(\"Removed duplicates\")"
      ],
      "execution_count": null,
      "outputs": [
        {
          "output_type": "stream",
          "name": "stdout",
          "text": [
            "There are  1  duplicates in the data\n",
            "Removed duplicates\n"
          ]
        }
      ]
    },
    {
      "cell_type": "markdown",
      "metadata": {
        "id": "oOpXlL91nph8"
      },
      "source": [
        "Let's analyze the \"Grade' column in our dataset."
      ]
    },
    {
      "cell_type": "code",
      "metadata": {
        "id": "x9BzMrkQ5Mgg",
        "colab": {
          "base_uri": "https://localhost:8080/",
          "height": 309
        },
        "outputId": "a4fa2804-a984-4746-f0ef-1a7b540a283e"
      },
      "source": [
        "grades = np.array2string(np.sort(df['Grade'].unique()), separator = ' , ')[1:-1]\n",
        "print('The labels in the dataset are ' , grades)\n",
        "df['Grade'].value_counts().plot(kind= 'bar');\n",
        "plt.title('Grade Frequency within the dataset');\n",
        "plt.xlabel('Grade');\n",
        "plt.ylabel('Frequency');"
      ],
      "execution_count": null,
      "outputs": [
        {
          "output_type": "stream",
          "name": "stdout",
          "text": [
            "The labels in the dataset are  0 , 2 , 3 , 4 , 5\n"
          ]
        },
        {
          "output_type": "display_data",
          "data": {
            "image/png": "[encoded data removed]",
            "text/plain": [
              "<Figure size 432x288 with 1 Axes>"
            ]
          },
          "metadata": {
            "needs_background": "light"
          }
        }
      ]
    },
    {
      "cell_type": "markdown",
      "metadata": {
        "id": "nxWuqOFt2p-V"
      },
      "source": [
        "The classes in our dataset are quite imbalanced. The grade '2' has only 5 occcurences.\n",
        "### Feature Selection"
      ]
    },
    {
      "cell_type": "code",
      "metadata": {
        "id": "NJ00lULc2pCq",
        "colab": {
          "base_uri": "https://localhost:8080/"
        },
        "outputId": "82db78d4-4a28-4355-d587-8445f3e6449a"
      },
      "source": [
        "X= df[df.columns[:-1]] # all except the grade column\n",
        "Y = df['Grade']\n",
        "\n",
        "print('We have a total of ', len(X.columns) , ' features in the data')"
      ],
      "execution_count": null,
      "outputs": [
        {
          "output_type": "stream",
          "name": "stdout",
          "text": [
            "We have a total of  45  features in the data\n"
          ]
        }
      ]
    },
    {
      "cell_type": "markdown",
      "metadata": {
        "id": "LY-Fm7W63TvK"
      },
      "source": [
        "Having too many features in the dataset can be a problem because\n",
        "\n",
        "1.   Too many features result in the Curse of dimensionality (problems because of too many dimensions)\n",
        "\n",
        "2.   Curse of dimensionality results in data being sparse (especially if datapoints are too few as in our case)\n",
        "\n",
        "3.   Data being sparse results in model overfitting\n",
        "\n",
        "Thus to cater the curse of Dimensionality, the number of features in the data has to be reduced. Let's analyze some of the feature to decide which ones are important for the model"
      ]
    },
    {
      "cell_type": "code",
      "metadata": {
        "id": "so52KLM6VGBd",
        "colab": {
          "base_uri": "https://localhost:8080/",
          "height": 1000
        },
        "outputId": "392eef81-1dd6-458e-b1e0-aa674ac5d4e2"
      },
      "source": [
        "# Plot the relation of some features with each Grade\n",
        "matchers = ['MP', 'PR', 'Quiz']\n",
        "for z, y in enumerate(matchers):\n",
        "  plt.figure(figsize = (6,6))\n",
        "  plt.xlabel('Features')\n",
        "  plt.ylabel('Grade')\n",
        "  plt.title('Feature Distribution across Grades')\n",
        "\n",
        "\n",
        "  matching = [s for s in X.columns if y in s]\n",
        "  colors = ['blue', 'green', 'red', 'purple', 'orange', 'yellow']\n",
        "  pltY = Y\n",
        "  for n, i in enumerate(matching):\n",
        "    pltX = X.loc[:, i]\n",
        "    plt.scatter(pltX, pltY, color=colors[n], label=i)\n",
        "\n",
        "  plt.legend(loc=4, prop={'size':8})\n",
        "  plt.show()\n"
      ],
      "execution_count": null,
      "outputs": [
        {
          "output_type": "display_data",
          "data": {
            "image/png": "[encoded data removed]",
            "text/plain": [
              "<Figure size 432x432 with 1 Axes>"
            ]
          },
          "metadata": {
            "needs_background": "light"
          }
        },
        {
          "output_type": "display_data",
          "data": {
            "image/png": "[encoded data removed]",
            "text/plain": [
              "<Figure size 432x432 with 1 Axes>"
            ]
          },
          "metadata": {
            "needs_background": "light"
          }
        },
        {
          "output_type": "display_data",
          "data": {
            "image/png": "[encoded data removed]",
            "text/plain": [
              "<Figure size 432x432 with 1 Axes>"
            ]
          },
          "metadata": {
            "needs_background": "light"
          }
        }
      ]
    },
    {
      "cell_type": "markdown",
      "metadata": {
        "id": "tWMwJM2Mo8b-"
      },
      "source": [
        "## Step 2: Training and Testing Data\n",
        "Now, we'll divide the dataset into training and testing data\n",
        "The train/test ratio used here is 70/30 which means\n",
        "\n",
        "\n",
        "*   Training Data --> 70 %\n",
        "*   Test Data --> 30 %\n",
        "\n"
      ]
    },
    {
      "cell_type": "code",
      "metadata": {
        "id": "V0wIyXRa2dJZ"
      },
      "source": [
        "# One-fifth of data as a part of test set\n",
        "validation_size = 0.3\n",
        "seed = 8\n",
        "\n",
        "X_train, X_test, Y_train, Y_test= model_selection.train_test_split(X, Y, test_size=validation_size, random_state=seed)\n",
        "\n",
        "# Test options and evaluation metric\n",
        "accuracy = []\n",
        "fscore = []"
      ],
      "execution_count": null,
      "outputs": []
    },
    {
      "cell_type": "markdown",
      "metadata": {
        "id": "spZ5dTZKxXIQ"
      },
      "source": [
        "## Step 3 : Train the Model\n",
        "Two Machine Learning models are used.\n",
        "1.   Random Forest Classifier (rfc)\n",
        "2.   Naive Bayes (nb)\n",
        "\n",
        "These models are trained in 2 ways:\n",
        "1.   With all features (clf_rfc_all, clf_nb_all)\n",
        "2.   With TopK features (clf_rfc_selected, clf_nb_selected)\n",
        "\n",
        "\n",
        "### Random Forest Classifier\n",
        "\n",
        "#### All features"
      ]
    },
    {
      "cell_type": "code",
      "metadata": {
        "id": "PPgNhypn3UTT"
      },
      "source": [
        "clf_rfc_all =  RandomForestClassifier(random_state=0)"
      ],
      "execution_count": null,
      "outputs": []
    },
    {
      "cell_type": "code",
      "metadata": {
        "id": "gHGiH3-760Vj",
        "colab": {
          "base_uri": "https://localhost:8080/"
        },
        "outputId": "22930b5a-3463-4ae2-8586-c2dd45494c6f"
      },
      "source": [
        "# Let's train our classifier\n",
        "clf_rfc_all.fit(X_train, Y_train);\n",
        "test_labels = clf_rfc_all.predict(X_test)\n",
        "print('Test Accuracy for Random Forest with all features : ',accuracy_score(Y_test, test_labels)*100.00)\n",
        "print('f1 Score for Random Forest with all features : ',f1_score(Y_test, test_labels, average = 'weighted'))\n",
        "accuracy.append(accuracy_score(Y_test, test_labels))\n",
        "fscore.append(f1_score(Y_test, test_labels, average = 'weighted'))"
      ],
      "execution_count": null,
      "outputs": [
        {
          "output_type": "stream",
          "name": "stdout",
          "text": [
            "Test Accuracy for Random Forest with all features :  81.25\n",
            "f1 Score for Random Forest with all features :  0.8345394736842104\n"
          ]
        }
      ]
    },
    {
      "cell_type": "code",
      "metadata": {
        "id": "jhxAYTk_47yX",
        "colab": {
          "base_uri": "https://localhost:8080/",
          "height": 204
        },
        "outputId": "06001327-8036-4ec4-e345-95853fce3a8b"
      },
      "source": [
        "# Create confusion matrix\n",
        "pd.crosstab(Y_test, test_labels, rownames=['Actual Grade'], colnames=['Predicted Grade'])"
      ],
      "execution_count": null,
      "outputs": [
        {
          "output_type": "execute_result",
          "data": {
            "text/html": [
              "<div>\n",
              "<style scoped>\n",
              "    .dataframe tbody tr th:only-of-type {\n",
              "        vertical-align: middle;\n",
              "    }\n",
              "\n",
              "    .dataframe tbody tr th {\n",
              "        vertical-align: top;\n",
              "    }\n",
              "\n",
              "    .dataframe thead th {\n",
              "        text-align: right;\n",
              "    }\n",
              "</style>\n",
              "<table border=\"1\" class=\"dataframe\">\n",
              "  <thead>\n",
              "    <tr style=\"text-align: right;\">\n",
              "      <th>Predicted Grade</th>\n",
              "      <th>0</th>\n",
              "      <th>3</th>\n",
              "      <th>4</th>\n",
              "      <th>5</th>\n",
              "    </tr>\n",
              "    <tr>\n",
              "      <th>Actual Grade</th>\n",
              "      <th></th>\n",
              "      <th></th>\n",
              "      <th></th>\n",
              "      <th></th>\n",
              "    </tr>\n",
              "  </thead>\n",
              "  <tbody>\n",
              "    <tr>\n",
              "      <th>0</th>\n",
              "      <td>15</td>\n",
              "      <td>0</td>\n",
              "      <td>0</td>\n",
              "      <td>0</td>\n",
              "    </tr>\n",
              "    <tr>\n",
              "      <th>3</th>\n",
              "      <td>0</td>\n",
              "      <td>2</td>\n",
              "      <td>1</td>\n",
              "      <td>0</td>\n",
              "    </tr>\n",
              "    <tr>\n",
              "      <th>4</th>\n",
              "      <td>0</td>\n",
              "      <td>4</td>\n",
              "      <td>7</td>\n",
              "      <td>0</td>\n",
              "    </tr>\n",
              "    <tr>\n",
              "      <th>5</th>\n",
              "      <td>0</td>\n",
              "      <td>1</td>\n",
              "      <td>0</td>\n",
              "      <td>2</td>\n",
              "    </tr>\n",
              "  </tbody>\n",
              "</table>\n",
              "</div>"
            ],
            "text/plain": [
              "Predicted Grade   0  3  4  5\n",
              "Actual Grade                \n",
              "0                15  0  0  0\n",
              "3                 0  2  1  0\n",
              "4                 0  4  7  0\n",
              "5                 0  1  0  2"
            ]
          },
          "metadata": {},
          "execution_count": 14
        }
      ]
    },
    {
      "cell_type": "code",
      "metadata": {
        "id": "xNfKiUY8F4Th",
        "colab": {
          "base_uri": "https://localhost:8080/",
          "height": 513
        },
        "outputId": "43e4a7b0-c418-47d4-873e-91f71a13841e"
      },
      "source": [
        "fi_data={'feature_names':X_train.columns,'feature_importance':clf_rfc_all.feature_importances_}\n",
        "fi_df = pd.DataFrame(fi_data)\n",
        "fi_df.sort_values(by=['feature_importance'], ascending=False,inplace=True)\n",
        "plt.figure(figsize=(10,8))\n",
        "sns.barplot(x=fi_df['feature_importance']*100, y=fi_df['feature_names'])\n",
        "plt.title('Feature Importances for Random Forest Classifier');\n",
        "plt.xlabel('Feature Importance (Percentage)');\n",
        "plt.ylabel('Feature Name');"
      ],
      "execution_count": null,
      "outputs": [
        {
          "output_type": "display_data",
          "data": {
            "image/png": "[encoded data removed]",
            "text/plain": [
              "<Figure size 720x576 with 1 Axes>"
            ]
          },
          "metadata": {
            "needs_background": "light"
          }
        }
      ]
    },
    {
      "cell_type": "markdown",
      "metadata": {
        "id": "K-4XIGd3bSe8"
      },
      "source": [
        "### Insights\n",
        "\n",
        "\n",
        "1.   All the mini projects had a high feature importance. This reveals that they had a high weightage in the calculation of the final grade. MP3 had the highest weightage followed by MP2 ans then MP1\n",
        "2.   The Peer reviews are also significant.\n",
        "3.   The stats for Week 5 significantly affected the model performance\n",
        "\n",
        "Now, let's take the top20 features important to the random forest classifier and analyze them"
      ]
    },
    {
      "cell_type": "code",
      "metadata": {
        "id": "H_gdMIC_0Pfs",
        "colab": {
          "base_uri": "https://localhost:8080/",
          "height": 558
        },
        "outputId": "fb3ea41c-c353-46e3-89e3-4809c28bbc27"
      },
      "source": [
        "best20 = list(fi_df['feature_names'][:20])\n",
        "df_corr = df[best20].corr()\n",
        "\n",
        "mask = np.zeros_like(df_corr, dtype=np.bool)\n",
        "mask[np.triu_indices_from(mask)] = True\n",
        "\n",
        "plt.figure(figsize=(10, 8))\n",
        "# plot the heatmap\n",
        "sns.heatmap(df_corr, \n",
        "        xticklabels=best20,\n",
        "        yticklabels=best20,\n",
        "        cmap=\"Blues\",\n",
        "        mask = mask)\n",
        "plt.title('Correlation Matrix', fontsize=16);"
      ],
      "execution_count": null,
      "outputs": [
        {
          "output_type": "display_data",
          "data": {
            "image/png": "[encoded data removed]",
            "text/plain": [
              "<Figure size 720x576 with 2 Axes>"
            ]
          },
          "metadata": {
            "needs_background": "light"
          }
        }
      ]
    },
    {
      "cell_type": "markdown",
      "metadata": {
        "id": "02af16jVaktj"
      },
      "source": [
        "From the above heatmap, we can tell that the project marks are correlated. We can combine them into a feature called project_total. We can do the same for quizzes and peer reviews. This helps in reducing the number of features."
      ]
    },
    {
      "cell_type": "markdown",
      "metadata": {
        "id": "IhWt743Xyu5f"
      },
      "source": [
        "#### Selected Features"
      ]
    },
    {
      "cell_type": "code",
      "metadata": {
        "id": "jx7fhKbp5cRE"
      },
      "source": [
        "# Create combination features\n",
        "X_train['MP_Total'] = X_train['Week3_MP1'] + X_train['Week5_MP2'] + X_train['Week7_MP3'];\n",
        "X_train['PR_Total'] = X_train['Week3_PR1'] + X_train['Week5_PR2'] + X_train['Week7_PR3'];\n",
        "X_train['Quiz_Total'] = X_train['Week2_Quiz1']+ X_train['Week4_Quiz2'] + X_train['Week6_Quiz3']; \n",
        "\n",
        "X_test['MP_Total'] = X_test['Week3_MP1'] + X_test['Week5_MP2'] + X_test['Week7_MP3'];\n",
        "X_test['PR_Total'] = X_test['Week3_PR1'] + X_test['Week5_PR2'] + X_test['Week7_PR3'];\n",
        "X_test['Quiz_Total'] = X_test['Week2_Quiz1']+ X_test['Week4_Quiz2'] + X_test['Week6_Quiz3']; "
      ],
      "execution_count": null,
      "outputs": []
    },
    {
      "cell_type": "code",
      "metadata": {
        "id": "qdKcBDkn5p3X",
        "colab": {
          "base_uri": "https://localhost:8080/",
          "height": 388
        },
        "outputId": "b0fa320d-c57b-4900-c2c5-dfe8a72ee668"
      },
      "source": [
        "# Plot the relation of some feature with each Grade\n",
        "plt.figure(figsize = (6,6))\n",
        "plt.xlabel('Features')\n",
        "plt.ylabel('Grade')\n",
        "\n",
        "pltX = X_train.loc[:, 'MP_Total']\n",
        "pltY = Y_train\n",
        "plt.scatter(pltX, pltY, color='blue', label='Mini Projects')\n",
        "\n",
        "pltX = X_train.loc[:, 'PR_Total']\n",
        "plt.scatter(pltX, pltY, color='green', label='Peer Reviews')\n",
        "\n",
        "pltX = X_train.loc[:, 'Quiz_Total']\n",
        "plt.scatter(pltX, pltY, color='red', label='Quizzes')\n",
        "\n",
        "plt.legend(loc=4, prop={'size':8})\n",
        "plt.show()\n"
      ],
      "execution_count": null,
      "outputs": [
        {
          "output_type": "display_data",
          "data": {
            "image/png": "[encoded data removed]",
            "text/plain": [
              "<Figure size 432x432 with 1 Axes>"
            ]
          },
          "metadata": {
            "needs_background": "light"
          }
        }
      ]
    },
    {
      "cell_type": "code",
      "metadata": {
        "id": "U4ugbDQiIEl5",
        "colab": {
          "base_uri": "https://localhost:8080/"
        },
        "outputId": "a9b3eb46-2579-4595-f474-dd7421a8c866"
      },
      "source": [
        "clf_rfc_selected = RandomForestClassifier(random_state=50) # Combining features to get new one \n",
        "\n",
        "\n",
        "matchers = ['MP','PR', 'Quiz']\n",
        "nonmatching = [s for s in best20 if not any(xs in s for xs in matchers)]\n",
        "\n",
        "feature_set = ['MP_Total', 'PR_Total', 'Quiz_Total']\n",
        "feature_set.extend(nonmatching)\n",
        "print('Training Random Forest on ', len(feature_set), ' features')\n",
        "clf_rfc_selected.fit(X_train[feature_set], Y_train);\n"
      ],
      "execution_count": null,
      "outputs": [
        {
          "output_type": "stream",
          "name": "stdout",
          "text": [
            "Training Random Forest on  14  features\n"
          ]
        }
      ]
    },
    {
      "cell_type": "code",
      "metadata": {
        "id": "vlr-6KiaIEXj",
        "colab": {
          "base_uri": "https://localhost:8080/"
        },
        "outputId": "4b789aeb-9006-4dbd-a5f3-d9d91153def1"
      },
      "source": [
        "test_labels = clf_rfc_selected.predict(X_test[feature_set])\n",
        "print('Test Accuracy for Random Forest with selected features : ',accuracy_score(Y_test, test_labels)*100.00)\n",
        "print('f1 score for Random Forest with selected features : ',f1_score(Y_test, test_labels, average = 'weighted')*100.00)\n",
        "accuracy.append(accuracy_score(Y_test, test_labels))\n",
        "fscore.append(f1_score(Y_test, test_labels, average = 'weighted'))\n"
      ],
      "execution_count": null,
      "outputs": [
        {
          "output_type": "stream",
          "name": "stdout",
          "text": [
            "Test Accuracy for Random Forest with selected features :  87.5\n",
            "f1 score for Random Forest with selected features :  88.06027164685908\n"
          ]
        }
      ]
    },
    {
      "cell_type": "code",
      "metadata": {
        "id": "gAfkU-Km4_aS",
        "colab": {
          "base_uri": "https://localhost:8080/",
          "height": 204
        },
        "outputId": "dcc9c9c8-8dab-4117-f99c-eb59a7fec750"
      },
      "source": [
        "# Create confusion matrix\n",
        "pd.crosstab(Y_test, test_labels, rownames=['Actual Grade'], colnames=['Predicted Grade'])"
      ],
      "execution_count": null,
      "outputs": [
        {
          "output_type": "execute_result",
          "data": {
            "text/html": [
              "<div>\n",
              "<style scoped>\n",
              "    .dataframe tbody tr th:only-of-type {\n",
              "        vertical-align: middle;\n",
              "    }\n",
              "\n",
              "    .dataframe tbody tr th {\n",
              "        vertical-align: top;\n",
              "    }\n",
              "\n",
              "    .dataframe thead th {\n",
              "        text-align: right;\n",
              "    }\n",
              "</style>\n",
              "<table border=\"1\" class=\"dataframe\">\n",
              "  <thead>\n",
              "    <tr style=\"text-align: right;\">\n",
              "      <th>Predicted Grade</th>\n",
              "      <th>0</th>\n",
              "      <th>3</th>\n",
              "      <th>4</th>\n",
              "      <th>5</th>\n",
              "    </tr>\n",
              "    <tr>\n",
              "      <th>Actual Grade</th>\n",
              "      <th></th>\n",
              "      <th></th>\n",
              "      <th></th>\n",
              "      <th></th>\n",
              "    </tr>\n",
              "  </thead>\n",
              "  <tbody>\n",
              "    <tr>\n",
              "      <th>0</th>\n",
              "      <td>15</td>\n",
              "      <td>0</td>\n",
              "      <td>0</td>\n",
              "      <td>0</td>\n",
              "    </tr>\n",
              "    <tr>\n",
              "      <th>3</th>\n",
              "      <td>0</td>\n",
              "      <td>3</td>\n",
              "      <td>0</td>\n",
              "      <td>0</td>\n",
              "    </tr>\n",
              "    <tr>\n",
              "      <th>4</th>\n",
              "      <td>0</td>\n",
              "      <td>3</td>\n",
              "      <td>8</td>\n",
              "      <td>0</td>\n",
              "    </tr>\n",
              "    <tr>\n",
              "      <th>5</th>\n",
              "      <td>1</td>\n",
              "      <td>0</td>\n",
              "      <td>0</td>\n",
              "      <td>2</td>\n",
              "    </tr>\n",
              "  </tbody>\n",
              "</table>\n",
              "</div>"
            ],
            "text/plain": [
              "Predicted Grade   0  3  4  5\n",
              "Actual Grade                \n",
              "0                15  0  0  0\n",
              "3                 0  3  0  0\n",
              "4                 0  3  8  0\n",
              "5                 1  0  0  2"
            ]
          },
          "metadata": {},
          "execution_count": 21
        }
      ]
    },
    {
      "cell_type": "markdown",
      "metadata": {
        "id": "8T1ByYgDy136"
      },
      "source": [
        "### Naive Bayes Classifier\n",
        "\n",
        "#### All features"
      ]
    },
    {
      "cell_type": "code",
      "metadata": {
        "id": "o9hpMF4O1vyp",
        "colab": {
          "base_uri": "https://localhost:8080/"
        },
        "outputId": "c8de1f0a-72fe-4e7e-e4f3-d29ef22603e2"
      },
      "source": [
        "# Let's train the second classifier Naive Bayes\n",
        "clf_nb_all = GaussianNB()\n",
        "clf_nb_all.fit(X_train, Y_train)\n",
        "test_labels = clf_nb_all.predict(X_test)\n",
        "print('Test Accuracy for Naive Bayes with all features : ',accuracy_score(Y_test, test_labels)*100.00) \n",
        "print('f1 Score for Naive Bayes with all features : ',f1_score(Y_test, test_labels, average = 'weighted'))\n",
        "accuracy.append(accuracy_score(Y_test, test_labels))\n",
        "fscore.append(f1_score(Y_test, test_labels, average = 'weighted'))"
      ],
      "execution_count": null,
      "outputs": [
        {
          "output_type": "stream",
          "name": "stdout",
          "text": [
            "Test Accuracy for Naive Bayes with all features :  59.375\n",
            "f1 Score for Naive Bayes with all features :  0.5846374889478338\n"
          ]
        }
      ]
    },
    {
      "cell_type": "code",
      "metadata": {
        "id": "oSk8jJco5Bn6",
        "colab": {
          "base_uri": "https://localhost:8080/",
          "height": 204
        },
        "outputId": "da1a9881-1e3b-4f46-9ed6-ac04cea8c3ac"
      },
      "source": [
        "# Create confusion matrix\n",
        "pd.crosstab(Y_test, test_labels, rownames=['Actual Grade'], colnames=['Predicted Grade'])"
      ],
      "execution_count": null,
      "outputs": [
        {
          "output_type": "execute_result",
          "data": {
            "text/html": [
              "<div>\n",
              "<style scoped>\n",
              "    .dataframe tbody tr th:only-of-type {\n",
              "        vertical-align: middle;\n",
              "    }\n",
              "\n",
              "    .dataframe tbody tr th {\n",
              "        vertical-align: top;\n",
              "    }\n",
              "\n",
              "    .dataframe thead th {\n",
              "        text-align: right;\n",
              "    }\n",
              "</style>\n",
              "<table border=\"1\" class=\"dataframe\">\n",
              "  <thead>\n",
              "    <tr style=\"text-align: right;\">\n",
              "      <th>Predicted Grade</th>\n",
              "      <th>0</th>\n",
              "      <th>2</th>\n",
              "      <th>3</th>\n",
              "      <th>4</th>\n",
              "      <th>5</th>\n",
              "    </tr>\n",
              "    <tr>\n",
              "      <th>Actual Grade</th>\n",
              "      <th></th>\n",
              "      <th></th>\n",
              "      <th></th>\n",
              "      <th></th>\n",
              "      <th></th>\n",
              "    </tr>\n",
              "  </thead>\n",
              "  <tbody>\n",
              "    <tr>\n",
              "      <th>0</th>\n",
              "      <td>14</td>\n",
              "      <td>0</td>\n",
              "      <td>0</td>\n",
              "      <td>1</td>\n",
              "      <td>0</td>\n",
              "    </tr>\n",
              "    <tr>\n",
              "      <th>3</th>\n",
              "      <td>0</td>\n",
              "      <td>0</td>\n",
              "      <td>2</td>\n",
              "      <td>0</td>\n",
              "      <td>1</td>\n",
              "    </tr>\n",
              "    <tr>\n",
              "      <th>4</th>\n",
              "      <td>0</td>\n",
              "      <td>3</td>\n",
              "      <td>3</td>\n",
              "      <td>1</td>\n",
              "      <td>4</td>\n",
              "    </tr>\n",
              "    <tr>\n",
              "      <th>5</th>\n",
              "      <td>0</td>\n",
              "      <td>0</td>\n",
              "      <td>1</td>\n",
              "      <td>0</td>\n",
              "      <td>2</td>\n",
              "    </tr>\n",
              "  </tbody>\n",
              "</table>\n",
              "</div>"
            ],
            "text/plain": [
              "Predicted Grade   0  2  3  4  5\n",
              "Actual Grade                   \n",
              "0                14  0  0  1  0\n",
              "3                 0  0  2  0  1\n",
              "4                 0  3  3  1  4\n",
              "5                 0  0  1  0  2"
            ]
          },
          "metadata": {},
          "execution_count": 23
        }
      ]
    },
    {
      "cell_type": "code",
      "metadata": {
        "id": "e69PO6fLE-1N"
      },
      "source": [
        "# Let's reduce the number of features and see if the performance of Naive Bayes improves\n",
        "X_train['MP_Total'] = X_train['Week3_MP1'] + X_train['Week5_MP2'] + X_train['Week7_MP3'];\n",
        "X_train['PR_Total'] = X_train['Week3_PR1'] + X_train['Week5_PR2'] + X_train['Week7_PR3'];\n",
        "X_train['Quiz_Total'] = X_train['Week2_Quiz1']+ X_train['Week4_Quiz2'] + X_train['Week6_Quiz3']; \n",
        "\n",
        "X_test['MP_Total'] = X_test['Week3_MP1'] + X_test['Week5_MP2'] + X_test['Week7_MP3'];\n",
        "X_test['PR_Total'] = X_test['Week3_PR1'] + X_test['Week5_PR2'] + X_test['Week7_PR3'];\n",
        "X_test['Quiz_Total'] = X_test['Week2_Quiz1']+ X_test['Week4_Quiz2'] + X_test['Week6_Quiz3']; \n",
        "\n",
        "\n",
        "clf_nb_selected = GaussianNB();\n",
        "clf_nb_selected.fit(X_train[feature_set], Y_train);"
      ],
      "execution_count": null,
      "outputs": []
    },
    {
      "cell_type": "code",
      "metadata": {
        "id": "aHdy-oFEFCSl",
        "colab": {
          "base_uri": "https://localhost:8080/"
        },
        "outputId": "b1a5b8be-bb9a-4dce-eb57-7e8d4ddea5ac"
      },
      "source": [
        "test_labels = clf_nb_selected.predict(X_test[feature_set])\n",
        "print('Test Accuracy for Naive Bayes with selected features : ',accuracy_score(Y_test, test_labels)*100.00) \n",
        "print('f1 Score for Naive Bayes with selected features : ',f1_score(Y_test, test_labels, average = 'weighted'))\n",
        "accuracy.append(accuracy_score(Y_test, test_labels))\n",
        "fscore.append(f1_score(Y_test, test_labels, average = 'weighted'))"
      ],
      "execution_count": null,
      "outputs": [
        {
          "output_type": "stream",
          "name": "stdout",
          "text": [
            "Test Accuracy for Naive Bayes with selected features :  71.875\n",
            "f1 Score for Naive Bayes with selected features :  0.7381254225828263\n"
          ]
        }
      ]
    },
    {
      "cell_type": "code",
      "metadata": {
        "id": "JZHBgLI6UkPR",
        "colab": {
          "base_uri": "https://localhost:8080/"
        },
        "outputId": "39c6b640-2514-49ad-881e-dec4bf5f89c9"
      },
      "source": [
        "clf_nb_selected3 = GaussianNB();\n",
        "clf_nb_selected3.fit(X_train[feature_set[:3]], Y_train);\n",
        "\n",
        "test_labels = clf_nb_selected3.predict(X_test[feature_set[:3]])\n",
        "print('Test Accuracy for Naive Bayes with selected features : ',accuracy_score(Y_test, test_labels)*100.00) \n",
        "print('f1 Score for Naive Bayes with selected features : ',f1_score(Y_test, test_labels, average = 'weighted'))\n",
        "accuracy.append(accuracy_score(Y_test, test_labels))\n",
        "fscore.append(f1_score(Y_test, test_labels, average = 'weighted'))"
      ],
      "execution_count": null,
      "outputs": [
        {
          "output_type": "stream",
          "name": "stdout",
          "text": [
            "Test Accuracy for Naive Bayes with selected features :  75.0\n",
            "f1 Score for Naive Bayes with selected features :  0.7549603174603174\n"
          ]
        }
      ]
    },
    {
      "cell_type": "code",
      "metadata": {
        "colab": {
          "base_uri": "https://localhost:8080/",
          "height": 204
        },
        "id": "CPh7VuRMbm3z",
        "outputId": "ae743246-281f-4f0d-e530-570a5f644f7d"
      },
      "source": [
        "# Create confusion matrix\n",
        "pd.crosstab(Y_test, test_labels, rownames=['Actual Grade'], colnames=['Predicted Grade'])"
      ],
      "execution_count": null,
      "outputs": [
        {
          "output_type": "execute_result",
          "data": {
            "text/html": [
              "<div>\n",
              "<style scoped>\n",
              "    .dataframe tbody tr th:only-of-type {\n",
              "        vertical-align: middle;\n",
              "    }\n",
              "\n",
              "    .dataframe tbody tr th {\n",
              "        vertical-align: top;\n",
              "    }\n",
              "\n",
              "    .dataframe thead th {\n",
              "        text-align: right;\n",
              "    }\n",
              "</style>\n",
              "<table border=\"1\" class=\"dataframe\">\n",
              "  <thead>\n",
              "    <tr style=\"text-align: right;\">\n",
              "      <th>Predicted Grade</th>\n",
              "      <th>0</th>\n",
              "      <th>3</th>\n",
              "      <th>4</th>\n",
              "      <th>5</th>\n",
              "    </tr>\n",
              "    <tr>\n",
              "      <th>Actual Grade</th>\n",
              "      <th></th>\n",
              "      <th></th>\n",
              "      <th></th>\n",
              "      <th></th>\n",
              "    </tr>\n",
              "  </thead>\n",
              "  <tbody>\n",
              "    <tr>\n",
              "      <th>0</th>\n",
              "      <td>15</td>\n",
              "      <td>0</td>\n",
              "      <td>0</td>\n",
              "      <td>0</td>\n",
              "    </tr>\n",
              "    <tr>\n",
              "      <th>3</th>\n",
              "      <td>0</td>\n",
              "      <td>2</td>\n",
              "      <td>1</td>\n",
              "      <td>0</td>\n",
              "    </tr>\n",
              "    <tr>\n",
              "      <th>4</th>\n",
              "      <td>0</td>\n",
              "      <td>2</td>\n",
              "      <td>5</td>\n",
              "      <td>4</td>\n",
              "    </tr>\n",
              "    <tr>\n",
              "      <th>5</th>\n",
              "      <td>0</td>\n",
              "      <td>0</td>\n",
              "      <td>1</td>\n",
              "      <td>2</td>\n",
              "    </tr>\n",
              "  </tbody>\n",
              "</table>\n",
              "</div>"
            ],
            "text/plain": [
              "Predicted Grade   0  3  4  5\n",
              "Actual Grade                \n",
              "0                15  0  0  0\n",
              "3                 0  2  1  0\n",
              "4                 0  2  5  4\n",
              "5                 0  0  1  2"
            ]
          },
          "metadata": {},
          "execution_count": 27
        }
      ]
    },
    {
      "cell_type": "markdown",
      "metadata": {
        "id": "d4O7oy1OAdw7"
      },
      "source": [
        "## Step 4: Performance Evaluation\n",
        "\n",
        "The performance has been evaluated side-by-side in the previous section as well. All the results have been summarized in the form of a plot here.\n",
        "\n",
        "### Model Improvement\n",
        "As we saw in the previous section, initially, the model performance was satisfactory. One of the reason behind this was that the model had too many features. Therefore, I reduced the number of features and evaluated the model again."
      ]
    },
    {
      "cell_type": "code",
      "metadata": {
        "id": "utMcjmFgzgh2",
        "colab": {
          "base_uri": "https://localhost:8080/",
          "height": 363
        },
        "outputId": "8c154cc3-932d-489f-e0a3-6c3a8af0c591"
      },
      "source": [
        "# Let's plot the accuracy and see how it varies across our considered models\n",
        "x = ['Random Forest (All)', 'Random Forest (14 Selected features)', 'Naive Bayes (All)', 'Naive Bayes (14 Selected features)', 'Naive Bayes (only 3 features)' ]\n",
        "plt.figure(figsize = (18,6));\n",
        "plt.bar(x, accuracy);\n",
        "plt.title('Performance Comparison of Random Forest and Naive Bayes');\n",
        "plt.xlabel('Classifier');\n",
        "plt.ylabel('Accuracy (out of 1)');"
      ],
      "execution_count": null,
      "outputs": [
        {
          "output_type": "display_data",
          "data": {
            "image/png": "[encoded data removed]",
            "text/plain": [
              "<Figure size 1296x432 with 1 Axes>"
            ]
          },
          "metadata": {
            "needs_background": "light"
          }
        }
      ]
    },
    {
      "cell_type": "code",
      "metadata": {
        "id": "UHmauiuoGIk-",
        "colab": {
          "base_uri": "https://localhost:8080/",
          "height": 363
        },
        "outputId": "4da43f47-9ffe-46bf-af6c-d0eb6da3159b"
      },
      "source": [
        "plt.figure(figsize = (18,6));\n",
        "plt.bar(x, fscore);\n",
        "plt.title('Performance Comparison of Random Forest and Naive Bayes');\n",
        "plt.xlabel('Classifier');\n",
        "plt.ylabel('F1 Score (out of 1)');"
      ],
      "execution_count": null,
      "outputs": [
        {
          "output_type": "display_data",
          "data": {
            "image/png": "[encoded data removed]",
            "text/plain": [
              "<Figure size 1296x432 with 1 Axes>"
            ]
          },
          "metadata": {
            "needs_background": "light"
          }
        }
      ]
    },
    {
      "cell_type": "markdown",
      "metadata": {
        "id": "1DZbNmizfJb8"
      },
      "source": [
        "## Step 5: Important Features\n",
        "The threemost important features are the marks of the three mini projects\n",
        "1. Week7_MP3\n",
        "2. Week5_MP2\n",
        "3. Week3_MP1"
      ]
    }
  ]
}